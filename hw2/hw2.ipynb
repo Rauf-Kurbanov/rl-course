{
 "cells": [
  {
   "cell_type": "code",
   "execution_count": 1,
   "metadata": {
    "collapsed": true
   },
   "outputs": [],
   "source": [
    "from enum import Enum\n",
    "from collections import defaultdict\n",
    "import numpy as np\n",
    "import matplotlib.pyplot as plt\n",
    "import matplotlib.cm as cm\n",
    "import math\n",
    "import random"
   ]
  },
  {
   "cell_type": "markdown",
   "metadata": {},
   "source": [
    "### 1. Implement the lion and cow example on a 10x10 grid (the lion's starting position is at the bottom left square, and the cow is in the top right square). "
   ]
  },
  {
   "cell_type": "code",
   "execution_count": 2,
   "metadata": {
    "collapsed": true
   },
   "outputs": [],
   "source": [
    "def GridState(x, y):\n",
    "    return (x, y)\n",
    "\n",
    "cow_init_state = GridState(0, 9)\n",
    "lion_init_state = GridState(9, 0)"
   ]
  },
  {
   "cell_type": "code",
   "execution_count": 3,
   "metadata": {
    "collapsed": false
   },
   "outputs": [],
   "source": [
    "class Action(Enum):\n",
    "    UP = 0\n",
    "    DOWN = 1\n",
    "    LEFT = 2\n",
    "    RIGHT = 3"
   ]
  },
  {
   "cell_type": "code",
   "execution_count": 4,
   "metadata": {
    "collapsed": false
   },
   "outputs": [],
   "source": [
    "reward_partial = {\n",
    "    (GridState(0, 8), Action.RIGHT) : 100, \n",
    "    (GridState(1, 9), Action.UP) : 100}\n",
    "reward = defaultdict(int, reward_partial)    "
   ]
  },
  {
   "cell_type": "code",
   "execution_count": 5,
   "metadata": {
    "collapsed": true
   },
   "outputs": [],
   "source": [
    "width = 10\n",
    "height = 10\n",
    "\n",
    "def State(x, y):\n",
    "    return (x, y)\n",
    "states = [State(x, y) for x in range(width) for y in range(height)]"
   ]
  },
  {
   "cell_type": "code",
   "execution_count": 6,
   "metadata": {
    "collapsed": false
   },
   "outputs": [],
   "source": [
    "actions = {}\n",
    "for s in states:\n",
    "    actions[s] = []\n",
    "    if s[0] > 0:\n",
    "        actions[s].append(Action.UP)\n",
    "    if s[0] < 9:\n",
    "        actions[s].append(Action.DOWN)\n",
    "    if s[1] > 0:\n",
    "        actions[s].append(Action.LEFT)\n",
    "    if s[1] < 9:\n",
    "        actions[s].append(Action.RIGHT)"
   ]
  },
  {
   "cell_type": "code",
   "execution_count": 7,
   "metadata": {
    "collapsed": false
   },
   "outputs": [],
   "source": [
    "def get_move(s, a):\n",
    "    return {\n",
    "        Action.UP : (s[0] - 1, s[1]),\n",
    "        Action.DOWN : (s[0] + 1, s[1]),\n",
    "        Action.LEFT : (s[0], s[1] - 1),\n",
    "        Action.RIGHT : (s[0], s[1] + 1)\n",
    "    }[a]\n",
    "\n",
    "def move(cell, direction, width=10, height=10):\n",
    "    next_cell = get_move(cell, direction)\n",
    "    if next_cell[0] in range(0, width) and next_cell[1] in range(0, height):\n",
    "        return next_cell\n",
    "    return cell"
   ]
  },
  {
   "cell_type": "code",
   "execution_count": 8,
   "metadata": {
    "collapsed": false
   },
   "outputs": [],
   "source": [
    "transitions = {(s, a) : move(s, a) for s in states for a in actions[s]}\n",
    "for a in actions[cow_init_state]:\n",
    "    transitions[cow_init_state, a] = cow_init_state"
   ]
  },
  {
   "cell_type": "code",
   "execution_count": 9,
   "metadata": {
    "collapsed": true
   },
   "outputs": [],
   "source": [
    "class MDP:\n",
    "    def __init__(self, states, transitions, actions, reward):\n",
    "        self.states = states\n",
    "        self.transitions = transitions\n",
    "        self.actions = actions\n",
    "        self.reward = reward"
   ]
  },
  {
   "cell_type": "markdown",
   "metadata": {},
   "source": [
    "### 2. Implement and apply policy iteration to that domain. How many iterations are needed? Experiment with the threshold for the policy "
   ]
  },
  {
   "cell_type": "code",
   "execution_count": 145,
   "metadata": {
    "collapsed": true
   },
   "outputs": [],
   "source": [
    "def softmax(x):\n",
    "    \"\"\"Compute softmax values for each sets of scores in x.\"\"\"\n",
    "    e_x = np.exp(x - np.max(x))\n",
    "    return e_x / e_x.sum(axis=0)"
   ]
  },
  {
   "cell_type": "code",
   "execution_count": 154,
   "metadata": {
    "collapsed": false
   },
   "outputs": [],
   "source": [
    "def initalize_policy(mdp):\n",
    "    values = {}\n",
    "    policy = {}\n",
    "    policy_prob = {}\n",
    "    for s in mdp.states:\n",
    "        values[s] = 1\n",
    "        policy[s] = random.choice(mdp.actions[s])\n",
    "        good_act = actions[s]\n",
    "        for a in good_act: \n",
    "            policy_prob[(s, a)] = 1 / len(good_act)\n",
    "    return values, policy, policy_prob\n",
    "\n",
    "def policy_evaluation(mdp, values, policy_prob, gamma, theta, eval_iter):\n",
    "    while True:\n",
    "        eval_iter += 1\n",
    "        delta = 0\n",
    "        for s in mdp.states:\n",
    "            v = values[s]\n",
    "            values[s] = sum([policy_prob[(s, a)] * (r + gamma * values[ss]) \n",
    "                             for a in mdp.actions[s] \n",
    "                             for ss in [mdp.transitions[(s, a)]] for r in [mdp.reward[(s, a)]]])\n",
    "            delta = max(delta, abs(v - values[s]))\n",
    "        if delta < theta:\n",
    "            return eval_iter, values\n",
    "    \n",
    "def policy_iteration(mdp, theta, gamma):\n",
    "    random.seed(42)\n",
    "    values, policy, policy_prob = initalize_policy(mdp)\n",
    "    \n",
    "    improv_iter = 0\n",
    "    eval_iter = 0\n",
    "    policy_stable = False\n",
    "    while not policy_stable:\n",
    "        eval_iter, values = policy_evaluation(mdp, values, policy_prob, gamma, theta, eval_iter)\n",
    "        \n",
    "        improv_iter += 1\n",
    "        policy_stable = True\n",
    "        for s in mdp.states:\n",
    "            old_action = policy[s]\n",
    "            candidates = [r + gamma * values[ss] for a in mdp.actions[s] \n",
    "                          for ss in [mdp.transitions[(s, a)]] for r in [mdp.reward[(s, a)]]]\n",
    "            maxi = np.argmax(candidates)\n",
    "            policy[s] = mdp.actions[s][maxi]\n",
    "                    \n",
    "            for i, a in enumerate(mdp.actions[s]):\n",
    "                sm = softmax(candidates)\n",
    "                policy_prob[(s, a)] = sm[i]\n",
    "            \n",
    "            if old_action != policy[s]:\n",
    "                policy_stable = False\n",
    "            \n",
    "    print(\"Evaluations iterations\", eval_iter)\n",
    "    print(\"Improvement iterations:\", improv_iter)\n",
    "    return values, policy"
   ]
  },
  {
   "cell_type": "code",
   "execution_count": 151,
   "metadata": {
    "collapsed": true
   },
   "outputs": [],
   "source": [
    "def plot_policy(policy_vals):\n",
    "    skeys = sorted(policy_vals.keys())\n",
    "    x = np.array([a for a, _ in skeys])\n",
    "    y = np.array([b for _, b in skeys])\n",
    "\n",
    "    temp = np.array([policy_vals[k] for k in skeys])\n",
    "\n",
    "    nrows, ncols = 10, 10\n",
    "    grid = temp.reshape((nrows, ncols))\n",
    "\n",
    "    plt.imshow(grid, extent=(x.min(), x.max(), y.max(), y.min()), cmap=cm.Greys)\n",
    "    plt.show()"
   ]
  },
  {
   "cell_type": "code",
   "execution_count": 152,
   "metadata": {
    "collapsed": true
   },
   "outputs": [],
   "source": [
    "mdp = MDP(states, transitions, actions, reward)"
   ]
  },
  {
   "cell_type": "code",
   "execution_count": 155,
   "metadata": {
    "collapsed": false
   },
   "outputs": [
    {
     "name": "stdout",
     "output_type": "stream",
     "text": [
      "Evaluations iterations 155\n",
      "Improvement iterations: 22\n"
     ]
    },
    {
     "data": {
      "image/png": "[encoded data removed]",
      "text/plain": [
       "<matplotlib.figure.Figure at 0x7f37e1dae3c8>"
      ]
     },
     "metadata": {},
     "output_type": "display_data"
    }
   ],
   "source": [
    "policy_vals, _ = policy_iteration(mdp, theta=0.0001, gamma=0.8)\n",
    "plot_policy(policy_vals)"
   ]
  },
  {
   "cell_type": "code",
   "execution_count": 156,
   "metadata": {
    "collapsed": false
   },
   "outputs": [
    {
     "name": "stdout",
     "output_type": "stream",
     "text": [
      "Evaluations iterations 243\n",
      "Improvement iterations: 19\n"
     ]
    },
    {
     "data": {
      "image/png": "[encoded data removed]",
      "text/plain": [
       "<matplotlib.figure.Figure at 0x7f37e1fe91d0>"
      ]
     },
     "metadata": {},
     "output_type": "display_data"
    }
   ],
   "source": [
    "policy_vals, _ = policy_iteration(mdp, theta=0.000001, gamma=0.9)\n",
    "plot_policy(policy_vals)"
   ]
  },
  {
   "cell_type": "code",
   "execution_count": 157,
   "metadata": {
    "collapsed": false
   },
   "outputs": [
    {
     "name": "stdout",
     "output_type": "stream",
     "text": [
      "Evaluations iterations 19\n",
      "Improvement iterations: 14\n"
     ]
    },
    {
     "data": {
      "image/png": "[encoded data removed]",
      "text/plain": [
       "<matplotlib.figure.Figure at 0x7f37e1f6a0b8>"
      ]
     },
     "metadata": {},
     "output_type": "display_data"
    }
   ],
   "source": [
    "policy_vals, _ = policy_iteration(mdp, theta=7, gamma=0.5)\n",
    "plot_policy(policy_vals)"
   ]
  },
  {
   "cell_type": "markdown",
   "metadata": {},
   "source": [
    "### 3. Implement and apply value iteration to that domain. How many iterations are needed for convergence? "
   ]
  },
  {
   "cell_type": "code",
   "execution_count": 103,
   "metadata": {
    "collapsed": true
   },
   "outputs": [],
   "source": [
    "def value_iteration(mdp, gamma, theta):\n",
    "    values = {}\n",
    "    for s in mdp.states:\n",
    "        values[s] = 1\n",
    "    niter = 0\n",
    "    while True:\n",
    "        niter += 1\n",
    "        delta = 0\n",
    "        for state in mdp.states:\n",
    "            v = values[state]\n",
    "            candidates = [r + gamma * values[ss]\n",
    "                          for a in mdp.actions[state] \n",
    "                          for ss in [transitions[(state, a)]] for r in [reward[(state, a)]]]\n",
    "            values[state] = max(candidates)\n",
    "            delta = max(delta, abs(v - values[state]))\n",
    "        if delta < theta:\n",
    "            print(\"Number of iterations\", niter)\n",
    "            return values"
   ]
  },
  {
   "cell_type": "code",
   "execution_count": 131,
   "metadata": {
    "collapsed": false
   },
   "outputs": [
    {
     "name": "stdout",
     "output_type": "stream",
     "text": [
      "Number of iterations 15\n"
     ]
    },
    {
     "data": {
      "image/png": "[encoded data removed]",
      "text/plain": [
       "<matplotlib.figure.Figure at 0x7f4ba8601518>"
      ]
     },
     "metadata": {},
     "output_type": "display_data"
    }
   ],
   "source": [
    "policy_vals = value_iteration(mdp, theta=0.01, gamma=0.8)\n",
    "plot_policy(policy_vals)"
   ]
  },
  {
   "cell_type": "code",
   "execution_count": 121,
   "metadata": {
    "collapsed": false
   },
   "outputs": [
    {
     "name": "stdout",
     "output_type": "stream",
     "text": [
      "Number of iterations 10\n"
     ]
    },
    {
     "data": {
      "image/png": "[encoded data removed]",
      "text/plain": [
       "<matplotlib.figure.Figure at 0x7f4ba85b0f98>"
      ]
     },
     "metadata": {},
     "output_type": "display_data"
    }
   ],
   "source": [
    "policy_vals = value_iteration(mdp, theta=10, gamma=0.9)\n",
    "plot_policy(policy_vals)"
   ]
  },
  {
   "cell_type": "code",
   "execution_count": 128,
   "metadata": {
    "collapsed": false
   },
   "outputs": [
    {
     "name": "stdout",
     "output_type": "stream",
     "text": [
      "Number of iterations 7\n"
     ]
    },
    {
     "data": {
      "image/png": "[encoded data removed]",
      "text/plain": [
       "<matplotlib.figure.Figure at 0x7f4ba8541a20>"
      ]
     },
     "metadata": {},
     "output_type": "display_data"
    }
   ],
   "source": [
    "policy_vals = value_iteration(mdp, theta=0.1, gamma=0.3)\n",
    "plot_policy(policy_vals)"
   ]
  }
 ],
 "metadata": {
  "kernelspec": {
   "display_name": "Python [conda root]",
   "language": "python",
   "name": "conda-root-py"
  },
  "language_info": {
   "codemirror_mode": {
    "name": "ipython",
    "version": 3
   },
   "file_extension": ".py",
   "mimetype": "text/x-python",
   "name": "python",
   "nbconvert_exporter": "python",
   "pygments_lexer": "ipython3",
   "version": "3.5.2"
  }
 },
 "nbformat": 4,
 "nbformat_minor": 2
}
